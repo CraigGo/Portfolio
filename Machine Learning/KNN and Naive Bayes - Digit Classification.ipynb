{
 "cells": [
  {
   "cell_type": "markdown",
   "metadata": {},
   "source": [
    "# Digit Classification with KNN and Naive Bayes"
   ]
  },
  {
   "cell_type": "markdown",
   "metadata": {},
   "source": [
    "This project implements an image recognition system for classifying digits. \n",
    "Additional links related to digit recognition:\n",
    "- Yann Lecun's MNIST benchmarks: http://yann.lecun.com/exdb/mnist/\n",
    "- Stanford Streetview research and data: http://ufldl.stanford.edu/housenumbers/"
   ]
  },
  {
   "cell_type": "code",
   "execution_count": 1,
   "metadata": {},
   "outputs": [],
   "source": [
    "# This tells matplotlib not to try opening a new window for each plot.\n",
    "%matplotlib inline\n",
    "\n",
    "# Import a bunch of libraries.\n",
    "import time\n",
    "import numpy as np\n",
    "import matplotlib.pyplot as plt\n",
    "from matplotlib.ticker import MultipleLocator\n",
    "from sklearn.pipeline import Pipeline\n",
    "# from sklearn.datasets import fetch_mldata\n",
    "from sklearn.datasets import fetch_openml\n",
    "from sklearn.neighbors import KNeighborsClassifier\n",
    "from sklearn.metrics import confusion_matrix\n",
    "from sklearn.linear_model import LinearRegression\n",
    "from sklearn.naive_bayes import BernoulliNB\n",
    "from sklearn.naive_bayes import MultinomialNB\n",
    "from sklearn.naive_bayes import GaussianNB\n",
    "# from sklearn.grid_search import GridSearchCV\n",
    "from sklearn.model_selection import GridSearchCV\n",
    "from sklearn.metrics import classification_report\n",
    "\n",
    "# Set the randomizer seed so results are the same each time.\n",
    "np.random.seed(0)"
   ]
  },
  {
   "cell_type": "markdown",
   "metadata": {},
   "source": [
    "Load the data. Notice that we are splitting the data into training, development, and test. We also have a small subset of the training data called mini_train_data and mini_train_labels that you should use in all the experiments below, unless otherwise noted."
   ]
  },
  {
   "cell_type": "code",
   "execution_count": 2,
   "metadata": {
    "scrolled": true
   },
   "outputs": [
    {
     "name": "stdout",
     "output_type": "stream",
     "text": [
      "data shape:  (70000, 784)\n",
      "label shape: (70000,)\n"
     ]
    }
   ],
   "source": [
    "# Load the digit data either from mldata.org, or once downloaded to data_home, from disk. The data is about 53MB so this cell\n",
    "# should take a while the first time your run it.\n",
    "#mnist = fetch_mldata('MNIST original', data_home='~/datasets/mnist')\n",
    "#X, Y = mnist.data, mnist.target\n",
    "\n",
    "X, Y = fetch_openml('mnist_784', return_X_y=True , cache=False)\n",
    "Y = Y.astype(int)\n",
    "\n",
    "# Rescale grayscale values to [0,1].\n",
    "X = X / 255.0\n",
    "\n",
    "# Shuffle the input: create a random permutation of the integers between 0 and the number of data points and apply this\n",
    "# permutation to X and Y.\n",
    "# NOTE: Each time you run this cell, you'll re-shuffle the data, resulting in a different ordering.\n",
    "shuffle = np.random.permutation(np.arange(X.shape[0]))\n",
    "X, Y = X[shuffle], Y[shuffle]\n",
    "\n",
    "# 70,000 observations.  28 x 28 = 784.\n",
    "print('data shape: ', X.shape)\n",
    "print('label shape:', Y.shape)\n",
    "\n",
    "# Set some variables to hold test, dev, and training data.\n",
    "# test data = 9,000\n",
    "# dev data = 1,000\n",
    "# train data = 60,000\n",
    "# mini_train_data = 1,000 (Subset of the training data)\n",
    "test_data, test_labels = X[61000:], Y[61000:]\n",
    "dev_data, dev_labels = X[60000:61000], Y[60000:61000]\n",
    "train_data, train_labels = X[:60000], Y[:60000]\n",
    "mini_train_data, mini_train_labels = X[:1000], Y[:1000]"
   ]
  },
  {
   "cell_type": "markdown",
   "metadata": {},
   "source": [
    "(1) A 10x10 grid is created to visualize 10 examples of each digit."
   ]
  },
  {
   "cell_type": "code",
   "execution_count": 3,
   "metadata": {},
   "outputs": [
    {
     "data": {
      "image/png": "[encoded data removed]",
      "text/plain": [
       "<Figure size 432x288 with 90 Axes>"
      ]
     },
     "metadata": {},
     "output_type": "display_data"
    }
   ],
   "source": [
    "def P1(num_examples=10):\n",
    "\n",
    "### STUDENT START ###\n",
    "\n",
    "    # loop through each digit and each column for that digit\n",
    "    for digit in range(0,10):\n",
    "        for col in range(1,10):\n",
    "            # Find the next value position of that digit in the labels\n",
    "            pos = np.where(mini_train_labels==digit)[0][col]\n",
    "            # set subplot to 10x10 grid\n",
    "            plt.subplot(10, 10, digit * 10 + col)\n",
    "            plt.imshow(mini_train_data[pos].reshape((28, 28)), cmap='gray')\n",
    "            # axis labels off\n",
    "            plt.axis('off')\n",
    "    plt.suptitle('MNIST: {} examples for each digit'.format(num_examples), size=16)\n",
    "\n",
    "### STUDENT END ###\n",
    "\n",
    "P1(10)"
   ]
  },
  {
   "cell_type": "markdown",
   "metadata": {},
   "source": [
    "(2) K-Nearest-Neighbors model is evaluated with k = [1,3,5,7,9] using the mini training set. Precision, recall, and F1 for each label is shown."
   ]
  },
  {
   "cell_type": "code",
   "execution_count": 4,
   "metadata": {
    "scrolled": false
   },
   "outputs": [
    {
     "name": "stdout",
     "output_type": "stream",
     "text": [
      "For k==1 neighbors:\n",
      "               precision    recall  f1-score   support\n",
      "\n",
      "           0       0.95      0.95      0.95       106\n",
      "           1       0.89      0.98      0.93       118\n",
      "           2       0.90      0.79      0.84       106\n",
      "           3       0.93      0.87      0.90        97\n",
      "           4       0.91      0.85      0.88        92\n",
      "           5       0.86      0.88      0.87        88\n",
      "           6       0.92      0.92      0.92       102\n",
      "           7       0.85      0.94      0.89       102\n",
      "           8       0.83      0.77      0.80        94\n",
      "           9       0.80      0.86      0.83        95\n",
      "\n",
      "    accuracy                           0.88      1000\n",
      "   macro avg       0.88      0.88      0.88      1000\n",
      "weighted avg       0.89      0.88      0.88      1000\n",
      "\n",
      "  MODEL      accuracy  precision   recall  f1-score\n",
      "Neighbors 1:   88.4%      0.89      0.88    0.88\n",
      "Neighbors 3:   87.6%      0.88      0.88    0.87\n",
      "Neighbors 5:   88.2%      0.89      0.88    0.88\n",
      "Neighbors 7:   87.7%      0.88      0.88    0.88\n",
      "Neighbors 9:   87.5%      0.88      0.88    0.87\n"
     ]
    }
   ],
   "source": [
    "def P2(k_values):\n",
    "\n",
    "### STUDENT START ###\n",
    "    k_reports = []\n",
    "    \n",
    "    for k in k_values:\n",
    "        # Create and train model\n",
    "        clf_kn = KNeighborsClassifier(n_neighbors=k)\n",
    "        clf_kn.fit(mini_train_data, mini_train_labels)\n",
    "        \n",
    "        # Predict on dev_data using model\n",
    "        predicted = clf_kn.predict(dev_data)\n",
    "\n",
    "        # Print out k==1 neighbors\n",
    "        rep = classification_report(dev_labels, predicted, digits=2)  \n",
    "        if k == 1:\n",
    "            print('For k==1 neighbors:\\n', rep)\n",
    "        \n",
    "        # Parse and generate report for KNN with k = [1, 3, 5, 7, 9]\n",
    "        line = rep.split('\\n')[-2]\n",
    "        beg, precision, recall, f1, end = [x for x in line.split('  ') if len(x)]\n",
    "        \n",
    "        # Calculate accuracy: (ratio of correctly predicted observation to the total observations)\n",
    "        correct = sum([i == j for i, j in zip(predicted, dev_labels)])\n",
    "        accuracy = correct / len(dev_labels)\n",
    "\n",
    "        k_reports.append((k, accuracy, precision, recall, f1))\n",
    "   \n",
    "    # Print report for KNN with k= [1, 3, 5, 7, 9]\n",
    "    print('  MODEL      accuracy  precision   recall  f1-score')\n",
    "    for item in k_reports:\n",
    "        print('Neighbors {0}:   {1:.1%}     {2}      {3}    {4}'.format(*item))\n",
    "\n",
    "### STUDENT END ###\n",
    "\n",
    "k_values = [1, 3, 5, 7, 9]\n",
    "P2(k_values)"
   ]
  },
  {
   "cell_type": "markdown",
   "metadata": {},
   "source": [
    "**ANSWER:** For k==1, The precision score indicates that the most difficult digit appears to be '9', and then '8'. Both also have the lowest f1-score."
   ]
  },
  {
   "cell_type": "markdown",
   "metadata": {},
   "source": [
    "(3) Using k=1, report dev set accuracy for the training set sizes below. Also, measure the amount of time needed for prediction with each training size."
   ]
  },
  {
   "cell_type": "code",
   "execution_count": 5,
   "metadata": {},
   "outputs": [
    {
     "name": "stdout",
     "output_type": "stream",
     "text": [
      "Train Size\tAccuracy\tPrecision\tRecall\t\tF1-score\t  Time\n",
      "------------------------------------------------------------------------------------------\n",
      "     100\t 70.2%\t\t 0.720\t\t 0.702\t\t 0.692\t\t  0.14s\n",
      "     200\t 79.1%\t\t 0.798\t\t 0.791\t\t 0.788\t\t  0.26s\n",
      "     400\t 81.1%\t\t 0.817\t\t 0.811\t\t 0.809\t\t  0.51s\n",
      "     800\t 86.6%\t\t 0.869\t\t 0.866\t\t 0.865\t\t  1.01s\n",
      "    1600\t 90.5%\t\t 0.907\t\t 0.905\t\t 0.905\t\t  2.03s\n",
      "    3200\t 92.7%\t\t 0.927\t\t 0.927\t\t 0.926\t\t  4.09s\n",
      "    6400\t 93.9%\t\t 0.939\t\t 0.939\t\t 0.939\t\t  8.37s\n",
      "   12800\t 95.2%\t\t 0.952\t\t 0.952\t\t 0.952\t\t 16.41s\n",
      "   25000\t 96.2%\t\t 0.962\t\t 0.962\t\t 0.962\t\t 31.83s\n"
     ]
    }
   ],
   "source": [
    "def P3(train_sizes, accuracies):\n",
    "\n",
    "### STUDENT START ###\n",
    "\n",
    "    print('Train Size\\tAccuracy\\tPrecision\\tRecall\\t\\tF1-score\\t  Time')\n",
    "    print(\"-\"*90)\n",
    "\n",
    "    for size in train_sizes:\n",
    "        # Train model using k==1\n",
    "        clf_kn = KNeighborsClassifier(n_neighbors=1)\n",
    "        clf_kn.fit(train_data[:size], train_labels[:size])\n",
    "\n",
    "        # Predict on dev_data and time the prediction\n",
    "        start = time.time()\n",
    "        predicted = clf_kn.predict(dev_data)\n",
    "        elapsed = time.time() - start\n",
    "        \n",
    "        # Calculate accuracy and append to list\n",
    "        correct = sum([i == j for i, j in zip(predicted, dev_labels)])\n",
    "        accuracy = correct / len(dev_labels)\n",
    "        accuracies.append(accuracy)\n",
    "        \n",
    "        # Build the reporting\n",
    "        rep = classification_report(y_true=dev_labels, y_pred=predicted, digits=3)\n",
    "        # Generate report - get the line and then parse it\n",
    "        line = rep.split('\\n')[-2]\n",
    "        beg, precision, recall, f1, end = [x for x in line.split('  ') if len(x)]\n",
    "        \n",
    "        # output table\n",
    "        print('{0:>8}\\t {1:.1%}\\t\\t {2}\\t\\t{3}\\t\\t{4}\\t\\t{5:>6.2f}s'.format(size, accuracy, precision, recall, f1, elapsed))\n",
    "\n",
    "### STUDENT END ###\n",
    "\n",
    "train_sizes = [100, 200, 400, 800, 1600, 3200, 6400, 12800, 25000]\n",
    "accuracies = []\n",
    "P3(train_sizes, accuracies)"
   ]
  },
  {
   "cell_type": "markdown",
   "metadata": {},
   "source": [
    "(4) Fit a regression model that predicts accuracy from training size. What does it predict for n=60000? What's wrong with using regression here? Can you apply a transformation that makes the predictions more reasonable?"
   ]
  },
  {
   "cell_type": "code",
   "execution_count": 6,
   "metadata": {},
   "outputs": [
    {
     "name": "stdout",
     "output_type": "stream",
     "text": [
      "Accuracy predicted (size=60.0k): 124.5%\n",
      "Accuracy predicted (size=60.0k):  97.6%  (Log Transformation)\n"
     ]
    }
   ],
   "source": [
    "def P4():\n",
    "\n",
    "### STUDENT START ###\n",
    "\n",
    "    size = 60000\n",
    "\n",
    "    # Use train sizes from Problem 3 and reshape into matrix\n",
    "    t_size = list(map(lambda x: [x,], train_sizes))\n",
    "    \n",
    "    # Fit model and predict for 60k\n",
    "    linearModel = LinearRegression()\n",
    "    linearModel.fit(t_size, accuracies)\n",
    "    pred = linearModel.predict([[size]])\n",
    "    print('Accuracy predicted (size={0}k): {1:>6.1%}'.format(size/1000, pred[0]))\n",
    "        \n",
    "    # Fit model and predict for 60k w/ Log Transform\n",
    "    transformModel = LinearRegression()\n",
    "    transform_sizes = [np.log([size]) for size in train_sizes]\n",
    "    \n",
    "    new_accuracies = [np.log(accuracy/(1-accuracy)) for accuracy in accuracies]\n",
    "    transformModel.fit(transform_sizes, new_accuracies)    \n",
    "    predT = transformModel.predict(np.log([[size]]))\n",
    "    \n",
    "    # Reverse Log transformation to get predicted value\n",
    "    transformPred = np.exp(predT) / (1 + np.exp(predT))\n",
    "    print('Accuracy predicted (size={0}k): {1:>6.1%}  (Log Transformation)'.format(size/1000, transformPred[0]))\n",
    "\n",
    "### STUDENT END ###\n",
    "    \n",
    "P4()"
   ]
  },
  {
   "cell_type": "markdown",
   "metadata": {},
   "source": [
    "**ANSWER:** The predicted accuracy is > 1 since there are no restrictions for the linear regression. A log transform is applied on the accuracy data and then reversed on the predicted value to retrieve the predicted accuracy."
   ]
  },
  {
   "cell_type": "markdown",
   "metadata": {},
   "source": [
    "(5) Fit a 1-NN and output a confusion matrix for the dev data. Use the confusion matrix to identify the most confused pair of digits, and display a few example mistakes."
   ]
  },
  {
   "cell_type": "code",
   "execution_count": 7,
   "metadata": {},
   "outputs": [
    {
     "name": "stdout",
     "output_type": "stream",
     "text": [
      "[[101   0   1   0   0   0   1   1   2   0]\n",
      " [  0 116   1   0   0   0   0   0   1   0]\n",
      " [  1   4  84   2   2   0   2   4   6   1]\n",
      " [  0   2   0  84   0   6   0   2   3   0]\n",
      " [  0   0   1   0  78   0   0   2   0  11]\n",
      " [  2   0   0   1   1  77   5   0   2   0]\n",
      " [  1   2   1   0   1   2  94   0   1   0]\n",
      " [  0   1   1   0   0   0   0  96   0   4]\n",
      " [  1   5   4   3   1   3   0   1  72   4]\n",
      " [  0   1   0   0   3   2   0   7   0  82]]\n",
      "\n",
      "Confusion matrix: the most confused pairs were 4's predicted to be 9's\n"
     ]
    },
    {
     "data": {
      "image/png": "[encoded data removed]",
      "text/plain": [
       "<Figure size 432x288 with 4 Axes>"
      ]
     },
     "metadata": {},
     "output_type": "display_data"
    }
   ],
   "source": [
    "def P5():\n",
    "\n",
    "### STUDENT START ###\n",
    "    model = KNeighborsClassifier(n_neighbors=1)\n",
    "    model.fit(mini_train_data, mini_train_labels)\n",
    "    preds = model.predict(dev_data)\n",
    "    print(confusion_matrix(dev_labels, preds))\n",
    "    print(\"\\nConfusion matrix: the most confused pairs were 4's predicted to be 9's\")\n",
    "    \n",
    "    # Examples\n",
    "    i = 0\n",
    "    count = 0\n",
    "    while count < 4:\n",
    "        if dev_labels[i] == 4 and preds[i] == 9:\n",
    "            mat = np.reshape(dev_data[i,], (28,28))\n",
    "            plt.subplot(1, 4, count + 1)\n",
    "            plt.imshow(mat, cmap = 'Greys')\n",
    "            plt.axis('off')\n",
    "            count += 1\n",
    "        i += 1\n",
    "        \n",
    "### STUDENT END ###\n",
    "\n",
    "P5()"
   ]
  },
  {
   "cell_type": "markdown",
   "metadata": {},
   "source": [
    "(6) A common image processing technique is to smooth an image by blurring. The idea is that the value of a particular pixel is estimated as the weighted combination of the original value and the values around it. Typically, the blurring is Gaussian -- that is, the weight of a pixel's influence is determined by a Gaussian function over the distance to the relevant pixel.\n",
    "\n",
    "Implement a simplified Gaussian blur by just using the 8 neighboring pixels: the smoothed value of a pixel is a weighted combination of the original value and the 8 neighboring values. Try applying your blur filter in 3 ways:\n",
    "- preprocess the training data but not the dev data\n",
    "- preprocess the dev data but not the training data\n",
    "- preprocess both training and dev data"
   ]
  },
  {
   "cell_type": "code",
   "execution_count": 16,
   "metadata": {},
   "outputs": [
    {
     "name": "stdout",
     "output_type": "stream",
     "text": [
      "Original & blurred number examples:\n"
     ]
    },
    {
     "data": {
      "image/png": "[encoded data removed]",
      "text/plain": [
       "<Figure size 432x288 with 8 Axes>"
      ]
     },
     "metadata": {},
     "output_type": "display_data"
    },
    {
     "name": "stdout",
     "output_type": "stream",
     "text": [
      "Blurred TRAINING data but NOT DEV data:\n",
      "\tcorrect: 906/1000  accuracy: 90.6%\n",
      "Blurred DEV data but NOT TRAINING data:\n",
      "\tcorrect: 868/1000  accuracy: 86.8%\n",
      "Blurred BOTH Training and DEV data:\n",
      "\tcorrect: 901/1000  accuracy: 90.1%\n"
     ]
    }
   ],
   "source": [
    "def P6():\n",
    "    \n",
    "### STUDENT START ###\n",
    "    def blur(data, weights):   \n",
    "        # Returns a new array of zeros\n",
    "        blurData = np.zeros(data.shape)\n",
    "        # For each row in original data\n",
    "        for i in range(data.shape[0]):\n",
    "            # Gives a 28x28 shape to an array without changing its data\n",
    "            tempMat = np.reshape(data[i], (28,28))\n",
    "            # Array of \n",
    "            blurMat = np.zeros((28, 28))\n",
    "            for j in range(1, 27):\n",
    "                for k in range(1, 27):\n",
    "                    for l in range(-1, 2):\n",
    "                        for m in range(-1, 2):\n",
    "                            # Add weighted value to blurred matrix\n",
    "                            blurMat[j][k] += tempMat[j+l][k+m] * weights[l+1][m+1]\n",
    "            # Reshape blurred matrix to match original data shape\n",
    "            blurData[i] = np.reshape(blurMat, (1, 784))\n",
    "        return blurData        \n",
    "    \n",
    "    def classifiers(trainX, trainY, testX, testY):\n",
    "        # Setup classifier and print accuracy for each case\n",
    "        clf_kn = KNeighborsClassifier(n_neighbors=1)\n",
    "        clf_kn.fit(trainX, trainY) \n",
    "        preds = clf_kn.predict(testX)\n",
    "        correct, total = 0, 0\n",
    "        for pred, label in zip(preds, testY):\n",
    "            if pred == label: \n",
    "                correct += 1\n",
    "            total += 1\n",
    "        print('\\tcorrect: {0}/{1}  accuracy: {2:>5.1%}'.format(correct, total, correct/total))\n",
    "    \n",
    "    # Used the Gaussian blur formula for weighting: http://en.wikipedia.org/wiki/Gaussian_blur\n",
    "    sigma = 1\n",
    "    weights = np.zeros((3, 3))\n",
    "    totWeight = 0\n",
    "    for i in range (-1, 2):\n",
    "        for j in range (-1, 2):\n",
    "            weights[i+1][j+1] = (1/(2 * np.pi * sigma**2))*np.exp(-1 * (i**2 + j**2)/(2 * sigma**2))\n",
    "            totWeight += weights[i+1][j+1]\n",
    "\n",
    "    # Normalizing weights\n",
    "    for i in range (0, 3):\n",
    "        for j in range(0, 3):\n",
    "            weights[i][j] = weights[i][j]/totWeight\n",
    "    \n",
    "    # Blurring the training and dev data\n",
    "    blur_mini_train_data = blur(mini_train_data, weights)\n",
    "    blur_dev_data = blur(dev_data, weights)\n",
    "        \n",
    "    ## Displaying severael examples leveraging the code in P5.\n",
    "    # Before blur examples\n",
    "    print(\"Original & blurred number examples:\")\n",
    "    i = 0\n",
    "    count = 0\n",
    "    while count < 4:\n",
    "        mat = np.reshape(dev_data[i,], (28,28))\n",
    "        plt.subplot(2, 4, count + 1)\n",
    "        plt.imshow(mat, cmap = 'Greys')\n",
    "        plt.axis('off')\n",
    "        count += 1\n",
    "        i += 1\n",
    "    \n",
    "    # After blur examples\n",
    "    i = 0\n",
    "    while count < 8:\n",
    "        mat = np.reshape(blur_dev_data[i,], (28,28))\n",
    "        plt.subplot(2, 4, count + 1)\n",
    "        plt.imshow(mat, cmap = 'Greys')\n",
    "        plt.axis('off')\n",
    "        count += 1\n",
    "        i += 1\n",
    "    plt.show()\n",
    "        \n",
    "    print('Blurred TRAINING data but NOT DEV data:')\n",
    "    classifiers(blur_mini_train_data, mini_train_labels, dev_data, dev_labels)\n",
    "    print('Blurred DEV data but NOT TRAINING data:')\n",
    "    classifiers(mini_train_data, mini_train_labels, blur_dev_data, dev_labels)\n",
    "    print('Blurred BOTH Training and DEV data:')\n",
    "    classifiers(blur_mini_train_data, mini_train_labels, blur_dev_data, dev_labels)\n",
    "\n",
    "### STUDENT END ###\n",
    "\n",
    "P6()"
   ]
  },
  {
   "cell_type": "markdown",
   "metadata": {},
   "source": [
    "**ANSWER:**  Blurring the Training set, but not the Dev data set seems to provide a slightly higher accuracy."
   ]
  },
  {
   "cell_type": "markdown",
   "metadata": {},
   "source": [
    "(7) Fit a Naive Bayes classifier and report accuracy on the dev data. Remember that Naive Bayes estimates P(feature|label). While sklearn can handle real-valued features, let's start by mapping the pixel values to either 0 or 1. You can do this as a preprocessing step, or with the binarize argument. With binary-valued features, you can use BernoulliNB. Next try mapping the pixel values to 0, 1, or 2, representing white, grey, or black. This mapping requires MultinomialNB. Does the multi-class version improve the results? Why or why not?"
   ]
  },
  {
   "cell_type": "code",
   "execution_count": 9,
   "metadata": {},
   "outputs": [
    {
     "name": "stdout",
     "output_type": "stream",
     "text": [
      "BinomialNB:    correct: 819/1000  accuracy: 81.9%\n",
      "MultinomialNB: correct: 814/1000  accuracy: 81.4%\n"
     ]
    }
   ],
   "source": [
    "def P7():\n",
    "\n",
    "### STUDENT START ###\n",
    "\n",
    "    # Fit BernoulliNB with <0.5 considered to be 0 and >0.5 to be 1\n",
    "    clf_bnb = BernoulliNB(alpha=1.0, binarize=.5, class_prior=None, fit_prior=True)\n",
    "    clf_bnb.fit(mini_train_data, mini_train_labels)       \n",
    "    preds = clf_bnb.predict(dev_data)\n",
    "    correct, total = 0, 0\n",
    "    for pred, label in zip(preds, dev_labels):\n",
    "        if pred == label: \n",
    "            correct += 1\n",
    "        total += 1\n",
    "    print('BinomialNB:    correct: {0}/{1}  accuracy: {2:>5.1%}'.format(correct, total, correct/total))\n",
    "\n",
    "    # map pixel values to either 0, 1 or 2\n",
    "    multiAdj = mini_train_data * 2\n",
    "    multiAdj = np.rint(multiAdj)\n",
    "    \n",
    "    clf_mnb = MultinomialNB(alpha=1.0, class_prior=None, fit_prior=True)\n",
    "    clf_mnb.fit(multiAdj, mini_train_labels)\n",
    "    preds = clf_mnb.predict(dev_data)\n",
    "    correct, total = 0, 0\n",
    "    for pred, label in zip(preds, dev_labels):\n",
    "        if pred == label: \n",
    "            correct += 1\n",
    "        total += 1\n",
    "    print('MultinomialNB: correct: {0}/{1}  accuracy: {2:>5.1%}'.format(correct, total, correct/total))\n",
    "\n",
    "### STUDENT END ###\n",
    "\n",
    "P7()"
   ]
  },
  {
   "cell_type": "markdown",
   "metadata": {},
   "source": [
    "**ANSWER:** MultinomialNB does not improve the results. It looks like it does not make sense to have three classes maybe because the objects are lines and that gray does not really add any further information about the digit."
   ]
  },
  {
   "cell_type": "markdown",
   "metadata": {},
   "source": [
    "(8) Use GridSearchCV to perform a search over values of alpha (the Laplace smoothing parameter) in a Bernoulli NB model. What is the best value for alpha? What is the accuracy when alpha=0? Is this what you'd expect?\n",
    "\n",
    "- Note that GridSearchCV partitions the training data so the results will be a bit different than if you used the dev data for evaluation."
   ]
  },
  {
   "cell_type": "code",
   "execution_count": 10,
   "metadata": {},
   "outputs": [
    {
     "name": "stdout",
     "output_type": "stream",
     "text": [
      "Alpha\tMean Score\tStd. Test Score\n",
      "----------------------------------------\n",
      "1e-10\t  0.827\t\t     0.041\n",
      "0.0001\t  0.836\t\t     0.045\n",
      "0.001\t  0.838\t\t     0.045\n",
      "0.01\t  0.834\t\t     0.047\n",
      "0.1\t  0.826\t\t     0.045\n",
      "0.5\t  0.826\t\t     0.043\n",
      "1.0\t  0.821\t\t     0.042\n",
      "2.0\t  0.818\t\t     0.043\n",
      "10.0\t  0.765\t\t     0.045\n"
     ]
    }
   ],
   "source": [
    "def P8(alphas):\n",
    "    \n",
    "### STUDENT START ###\n",
    "\n",
    "    # Run Bernoulli NB for alphas array\n",
    "    clfBnb = BernoulliNB(binarize=0.5, fit_prior=False, class_prior=None)\n",
    "    clfGrid = GridSearchCV(clfBnb, alphas, iid=True, cv=5)\n",
    "    clfGrid.fit(mini_train_data, mini_train_labels)\n",
    "\n",
    "    print(\"Alpha\\tMean Score\\tStd. Test Score\")\n",
    "    print(\"-\"*40)\n",
    "    for i in range(len(clfGrid.cv_results_['mean_test_score'])):\n",
    "        print('{0}\\t  {1}\\t\\t     {2:5.2}'.format(alphas['alpha'][i], clfGrid.cv_results_['mean_test_score'][i], \n",
    "            clfGrid.cv_results_['std_test_score'][i]))\n",
    "\n",
    "    return clfGrid\n",
    "\n",
    "### STUDENT END ###\n",
    "\n",
    "# Setting Alpha 0.0 to 1.0e-10 to avoid warning\n",
    "alphas = {'alpha': [1.0e-10, 0.0001, 0.001, 0.01, 0.1, 0.5, 1.0, 2.0, 10.0]}\n",
    "nb = P8(alphas)"
   ]
  },
  {
   "cell_type": "code",
   "execution_count": 11,
   "metadata": {},
   "outputs": [
    {
     "name": "stdout",
     "output_type": "stream",
     "text": [
      "{'alpha': 0.001}\n"
     ]
    }
   ],
   "source": [
    "print(nb.best_params_)"
   ]
  },
  {
   "cell_type": "markdown",
   "metadata": {},
   "source": [
    "**ANSWER:** The best value of alpha is '0.001'. An Alpha of ~0.0 had a lower mean score, but not by much (difference = .011). This makes sense given that the optimal alpha was already pretty close to zero at 0.001."
   ]
  },
  {
   "cell_type": "markdown",
   "metadata": {},
   "source": [
    "(9) Try training a model using GuassianNB, which is intended for real-valued features, and evaluate on the dev data. You'll notice that it doesn't work so well. Try to diagnose the problem. You should be able to find a simple fix that returns the accuracy to around the same rate as BernoulliNB. Explain your solution.\n",
    "\n",
    "Hint: examine the parameters estimated by the fit() method, theta\\_ and sigma\\_."
   ]
  },
  {
   "cell_type": "code",
   "execution_count": 12,
   "metadata": {},
   "outputs": [
    {
     "name": "stdout",
     "output_type": "stream",
     "text": [
      "BernoulliNB (P8)               accuracy: 83.8%\n",
      "GuassianNB: correct: 593/1000  accuracy: 59.3%\n",
      "\n",
      "theta:\n",
      "[[0. 0. 0. ... 0. 0. 0.]\n",
      " [0. 0. 0. ... 0. 0. 0.]\n",
      " [0. 0. 0. ... 0. 0. 0.]\n",
      " ...\n",
      " [0. 0. 0. ... 0. 0. 0.]\n",
      " [0. 0. 0. ... 0. 0. 0.]\n",
      " [0. 0. 0. ... 0. 0. 0.]]\n",
      "\n",
      "sigma:\n",
      "[[2.01433307e-10 2.01433307e-10 2.01433307e-10 ... 2.01433307e-10\n",
      "  2.01433307e-10 2.01433307e-10]\n",
      " [2.01433307e-10 2.01433307e-10 2.01433307e-10 ... 2.01433307e-10\n",
      "  2.01433307e-10 2.01433307e-10]\n",
      " [2.01433307e-10 2.01433307e-10 2.01433307e-10 ... 2.01433307e-10\n",
      "  2.01433307e-10 2.01433307e-10]\n",
      " ...\n",
      " [2.01433307e-10 2.01433307e-10 2.01433307e-10 ... 2.01433307e-10\n",
      "  2.01433307e-10 2.01433307e-10]\n",
      " [2.01433307e-10 2.01433307e-10 2.01433307e-10 ... 2.01433307e-10\n",
      "  2.01433307e-10 2.01433307e-10]\n",
      " [2.01433307e-10 2.01433307e-10 2.01433307e-10 ... 2.01433307e-10\n",
      "  2.01433307e-10 2.01433307e-10]]\n",
      "\n",
      "Adj. GuassianNB: correct: 820/1000  accuracy: 82.0%\n"
     ]
    }
   ],
   "source": [
    "def P9():\n",
    "\n",
    "### STUDENT END ###\n",
    "\n",
    "    print(\"BernoulliNB (P8)               accuracy: 83.8%\")\n",
    "    # Train Gaussian NB\n",
    "    clfGnb = GaussianNB()\n",
    "    clfGnb.fit(mini_train_data, mini_train_labels)       \n",
    "    preds = clfGnb.predict(dev_data)\n",
    "    correct, total = 0, 0\n",
    "    for pred, label in zip(preds, dev_labels):\n",
    "        if pred == label: \n",
    "            correct += 1\n",
    "        total += 1\n",
    "    print('GuassianNB: correct: {0}/{1}  accuracy: {2:>5.1%}\\n'.format(correct, total, correct/total))\n",
    "    # theta an sigma values are zero or close to zero\n",
    "    print('theta:\\n' + str(clfGnb.theta_) + '\\n\\nsigma:\\n' + str(clfGnb.sigma_))\n",
    "    \n",
    "    # sigma and theta values are near-zero, so add random noise: 0.3 performed the best\n",
    "    adj_mini_train_data = np.zeros(mini_train_data.shape)\n",
    "    for i in range(mini_train_data.shape[0]):\n",
    "        for j in range(mini_train_data.shape[1]):\n",
    "            adj_mini_train_data[i][j] = mini_train_data[i][j] + 0.3 * np.random.rand()\n",
    "\n",
    "    # Train Gaussian NB using the adjusted data\n",
    "    clfGnb = GaussianNB()\n",
    "    clfGnb.fit(adj_mini_train_data, mini_train_labels)       \n",
    "    preds = clfGnb.predict(dev_data)\n",
    "    correct, total = 0, 0\n",
    "    for pred, label in zip(preds, dev_labels):\n",
    "        if pred == label: \n",
    "            correct += 1\n",
    "        total += 1\n",
    "    print('\\nAdj. GuassianNB: correct: {0}/{1}  accuracy: {2:>5.1%}'.format(correct, total, correct/total))\n",
    "\n",
    "### STUDENT END ###\n",
    "\n",
    "gnb = P9()"
   ]
  },
  {
   "cell_type": "markdown",
   "metadata": {},
   "source": [
    "**ANSWER:** \n",
    "The problem is that the mean (theta) and standard deviation (sigma) is zero or close to zero. Adding random noise increased accuracy to ~82%, which is close to the BernoulliNB at 83.8%."
   ]
  },
  {
   "cell_type": "markdown",
   "metadata": {},
   "source": [
    "(10) Because Naive Bayes is a generative model, we can use the trained model to generate digits. Train a BernoulliNB model and then generate a 10x20 grid with 20 examples of each digit. Because you're using a Bernoulli model, each pixel output will be either 0 or 1. How do the generated digits compare to the training digits?\n",
    "\n",
    "- You can use np.random.rand() to generate random numbers from a uniform distribution\n",
    "- The estimated probability of each pixel is stored in feature\\_log\\_prob\\_. You'll need to use np.exp() to convert a log probability back to a probability."
   ]
  },
  {
   "cell_type": "code",
   "execution_count": 18,
   "metadata": {},
   "outputs": [
    {
     "data": {
      "image/png": "[encoded data removed]",
      "text/plain": [
       "<Figure size 864x864 with 200 Axes>"
      ]
     },
     "metadata": {},
     "output_type": "display_data"
    }
   ],
   "source": [
    "def P10(num_examples):\n",
    "\n",
    "### STUDENT START ###\n",
    "\n",
    "    # Train Bernoulli NB\n",
    "    clfBnb = BernoulliNB(binarize = 0.5, fit_prior=True, class_prior=None)\n",
    "    clfBnb.fit(mini_train_data, mini_train_labels)\n",
    "    \n",
    "    fig = plt.figure(figsize=(12, 12))\n",
    "    # Generate 20 examples per digit\n",
    "    for i in range(num_examples):\n",
    "        for j in range(10):\n",
    "            mat = np.reshape([np.exp(clfBnb.feature_log_prob_)[j] > np.random.rand(784)], (28,28))\n",
    "            plt.subplot(10, num_examples, j * num_examples + i + 1)\n",
    "            plt.imshow(mat, cmap = 'Greys')\n",
    "            plt.axis('off')\n",
    "\n",
    "    fig.suptitle('Showing {0} examples for each digit'.format(num_examples), size=18)\n",
    "            \n",
    "### STUDENT END ###\n",
    "\n",
    "P10(20)"
   ]
  },
  {
   "cell_type": "markdown",
   "metadata": {},
   "source": [
    "**ANSWER:** \n",
    "The generated digits are less crisp and defined compared to the training digits. The training digits have edges, are more distinct, and vary more from one digit to another."
   ]
  },
  {
   "cell_type": "markdown",
   "metadata": {},
   "source": [
    "(11) Remember that a strongly calibrated classifier is rougly 90% accurate when the posterior probability of the predicted class is 0.9. A weakly calibrated classifier is more accurate when the posterior is 90% than when it is 80%. A poorly calibrated classifier has no positive correlation between posterior and accuracy.\n",
    "\n",
    "Train a BernoulliNB model with a reasonable alpha value. For each posterior bucket (think of a bin in a histogram), you want to estimate the classifier's accuracy. So for each prediction, find the bucket the maximum posterior belongs to and update the \"correct\" and \"total\" counters.\n",
    "\n",
    "How would you characterize the calibration for the Naive Bayes model?"
   ]
  },
  {
   "cell_type": "code",
   "execution_count": 14,
   "metadata": {},
   "outputs": [
    {
     "name": "stdout",
     "output_type": "stream",
     "text": [
      "p(pred) <= 0.5000000000000    total = 1000    accuracy = 0.828\n",
      "p(pred) <= 0.9000000000000    total = 962    accuracy = 0.846\n",
      "p(pred) <= 0.9990000000000    total = 876    accuracy = 0.884\n",
      "p(pred) <= 0.9999900000000    total = 806    accuracy = 0.912\n",
      "p(pred) <= 0.9999999000000    total = 736    accuracy = 0.935\n",
      "p(pred) <= 0.9999999990000    total = 688    accuracy = 0.943\n",
      "p(pred) <= 0.9999999999900    total = 621    accuracy = 0.947\n",
      "p(pred) <= 0.9999999999999    total = 549    accuracy = 0.954\n",
      "p(pred) <= 1.0000000000000    total = 526    accuracy = 0.958\n"
     ]
    }
   ],
   "source": [
    "def P11(buckets, correct, total):\n",
    "    \n",
    "### STUDENT START ###\n",
    "\n",
    "    # Fit BernoulliNB model with alpha=0.001 (from P8)\n",
    "    clfBnb = BernoulliNB(alpha=0.001, binarize=.5, fit_prior=False)\n",
    "    clfBnb.fit(mini_train_data , mini_train_labels)\n",
    "    predProb = np.exp(clfBnb.predict_log_proba(dev_data))\n",
    "    \n",
    "    # Get the predicted probabilities and labels\n",
    "    posterior_prob = np.max(predProb, axis=1)\n",
    "    predicted_label = np.argmax(predProb, axis=1)\n",
    "        \n",
    "    # Update total and correct counts\n",
    "    # Iterate for each prediction and for each posterior bucket\n",
    "    for i, p in enumerate(posterior_prob):\n",
    "        for j, b in enumerate(buckets):\n",
    "            if p >= b:\n",
    "                # add to total count\n",
    "                total[j] += 1\n",
    "                # check if correct and add to total correct\n",
    "                if predicted_label[i] == dev_labels[i]:\n",
    "                    correct[j] += 1\n",
    "                \n",
    "### STUDENT END ###\n",
    "\n",
    "buckets = [0.5, 0.9, 0.999, 0.99999, 0.9999999, 0.999999999, 0.99999999999, 0.9999999999999, 1.0]\n",
    "correct = [0 for i in buckets]\n",
    "total = [0 for i in buckets]\n",
    "\n",
    "P11(buckets, correct, total)\n",
    "\n",
    "for i in range(len(buckets)):\n",
    "    accuracy = 0.0\n",
    "    if (total[i] > 0): accuracy = correct[i] / total[i]\n",
    "    print('p(pred) <= %.13f    total = %3d    accuracy = %.3f' %(buckets[i], total[i], accuracy))"
   ]
  },
  {
   "cell_type": "markdown",
   "metadata": {},
   "source": [
    "**ANSWER:**  The Naive Bayes model is weakly calibrated. There is a positive correlation between posterior probability and accuracy (classifier is more accurate as the posterior is higher), but they are not very close to being equivalent."
   ]
  }
 ],
 "metadata": {
  "kernelspec": {
   "display_name": "Python 3",
   "language": "python",
   "name": "python3"
  },
  "language_info": {
   "codemirror_mode": {
    "name": "ipython",
    "version": 3
   },
   "file_extension": ".py",
   "mimetype": "text/x-python",
   "name": "python",
   "nbconvert_exporter": "python",
   "pygments_lexer": "ipython3",
   "version": "3.6.5"
  }
 },
 "nbformat": 4,
 "nbformat_minor": 1
}
