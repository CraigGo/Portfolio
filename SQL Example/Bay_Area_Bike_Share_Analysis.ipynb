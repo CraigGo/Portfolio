{
 "cells": [
  {
   "cell_type": "markdown",
   "metadata": {},
   "source": [
    "# Ford GoBike Analysis by Craig Fleischman\n",
    "\n",
    "***"
   ]
  },
  {
   "cell_type": "markdown",
   "metadata": {},
   "source": [
    "<h3> Problem Statement </h3>\n",
    "\n",
    "You're a data scientist at Ford GoBike (https://www.fordgobike.com/), the company running Bay Area Bikeshare. You are trying to increase ridership, and you want to offer deals through the mobile app to do so. What deals do you offer though? Currently, your company has three options: a flat price for a single one-way trip, a day pass that allows unlimited 30-minute rides for 24 hours and an annual membership.\n",
    "\n",
    "Through this project, you will answer these questions:  \n",
    "- What are the 5 most popular trips that you would call \"commuter trips\"?  \n",
    "- What are your recommendations for offers (justify based on your findings)?  "
   ]
  },
  {
   "cell_type": "markdown",
   "metadata": {},
   "source": [
    "<h3>Recommendations to increase riders and revenue: </h3>\n",
    "\n",
    "**Customer Segments**:  \n",
    "There are 2 groups of customers; **commuters** (people going to and from work) that take shorter trips (~9 mins on average) and then there are **ad-hoc** customers.  Commuters are subscription holders.  Ad-hoc customers take longer rides (6.1x) and take most of their trips during the weekends.  Ad-hoc customers have less trips, but have more total minutes used per year than commuters (~8.4M vs. ~8.2M).  Ad-hoc customers could be considered vacationers and also a small percentage of the population that are commuters, but do not have a subscription.\n",
    "\n",
    "**Specific Actions**:  \n",
    "1) Target pricing by customer group.  \n",
    "&emsp;**a)** The ad-hoc group will ride the most total minutes and are probably less price sensitivity.\n",
    "\n",
    "&emsp;**-Day pass** that ends at midnight, regardless of start time.  (The bike needs to get back to the station in time for the Monday morning commute.)  \n",
    "&emsp;**-30 minute pass (with excess minutes charged per minute)**  \n",
    "&emsp;**-120 minute pass (with excess minutes charged per minute)**  \n",
    "\n",
    "&emsp;**b)** The membership group trip average is 9.4 minutes, with > 95% of all trips less than 30 minutes.  \n",
    "&emsp;**-Annual Membership** Provides 60 minutes free per day.  \n",
    "&emsp;**-Monthly Membership** Provides 60 minutes free per day.  (The monthly price will be higher than the annual / 12 price.)  \n",
    "\n",
    "2) Adjust bike quantities to move excess supply to other bike stations that are running out.  \n",
    "\n",
    "3) Purchase additional bikes where stations are regularly empty. The Top 10 stations report with the most empty bike readings is a good place to use additional bikes. They total more than ~338,000 empty readings.  \n",
    "\n",
    "***"
   ]
  },
  {
   "cell_type": "markdown",
   "metadata": {},
   "source": [
    "# Background Informational Queries"
   ]
  },
  {
   "cell_type": "markdown",
   "metadata": {},
   "source": [
    "<h3>Q1: Which days have the most trips?   </h3>\n",
    "\n",
    "**Answer 1:**  \n",
    "Monday through Friday are the busiest days with ~60,000 trips on average per day.  \n",
    "\n",
    "<h3>Q2: Which trips have the longest duration?  </h3>\n",
    "\n",
    "**Answer 2:**  \n",
    "Saturday and Sunday have the longest average trips (~11 mins), while the mideweek trips average ~9mins.  \n",
    "\n",
    "**Assumptions:**   \n",
    "<body> - AM commute:  starts at 4am to 9am,  end at 10am  </body>  \n",
    "<body> - PM commute:  starts at 4pm to 9pm,  end at 10pm </body>  \n",
    "<body> - Duration > 2 minutes </body>  "
   ]
  },
  {
   "cell_type": "code",
   "execution_count": null,
   "metadata": {},
   "outputs": [],
   "source": [
    "import pandas as pd\n",
    "import matplotlib.pyplot as plt\n",
    "%matplotlib inline"
   ]
  },
  {
   "cell_type": "code",
   "execution_count": 2,
   "metadata": {},
   "outputs": [
    {
     "name": "stdout",
     "output_type": "stream",
     "text": [
      "Waiting on bqjob_r50381807b6d602c_00000168bc6af165_1 ... (0s) Current status: DONE    "
     ]
    }
   ],
   "source": [
    "! bq query --use_legacy_sql=FALSE --format=csv 'SELECT EXTRACT(DAYOFWEEK from start_date), count(start_date), trunc(avg(duration_sec)/60,1) as duration_mins FROM `bigquery-public-data.san_francisco.bikeshare_trips` WHERE EXTRACT(HOUR from start_date) >= 4 and EXTRACT(HOUR from start_date) <= 9 and EXTRACT(HOUR from end_date) <= 10 and duration_sec > 120 GROUP BY EXTRACT(DAYOFWEEK from start_date) ORDER BY 1' > result1.csv\n",
    "! bq query --use_legacy_sql=FALSE --format=csv 'SELECT EXTRACT(DAYOFWEEK from start_date), count(start_date), trunc(avg(duration_sec)/60,1) as duration_mins FROM `bigquery-public-data.san_francisco.bikeshare_trips` WHERE EXTRACT(HOUR from start_date) >= 16 and EXTRACT(HOUR from start_date) <= 19 and EXTRACT(HOUR from end_date) <= 20 and duration_sec > 120 GROUP BY EXTRACT(DAYOFWEEK from start_date) ORDER BY 1' > result2.csv"
   ]
  },
  {
   "cell_type": "code",
   "execution_count": 3,
   "metadata": {},
   "outputs": [],
   "source": [
    "df_daily_am=pd.read_csv('result1.csv')\n",
    "df_daily_pm=pd.read_csv('result2.csv')"
   ]
  },
  {
   "cell_type": "code",
   "execution_count": 4,
   "metadata": {},
   "outputs": [
    {
     "data": {
      "text/html": [
       "<div>\n",
       "<style scoped>\n",
       "    .dataframe tbody tr th:only-of-type {\n",
       "        vertical-align: middle;\n",
       "    }\n",
       "\n",
       "    .dataframe tbody tr th {\n",
       "        vertical-align: top;\n",
       "    }\n",
       "\n",
       "    .dataframe thead th {\n",
       "        text-align: right;\n",
       "    }\n",
       "</style>\n",
       "<table border=\"1\" class=\"dataframe\">\n",
       "  <thead>\n",
       "    <tr style=\"text-align: right;\">\n",
       "      <th></th>\n",
       "      <th>f0_</th>\n",
       "      <th>f1_</th>\n",
       "      <th>duration_mins</th>\n",
       "    </tr>\n",
       "  </thead>\n",
       "  <tbody>\n",
       "    <tr>\n",
       "      <th>0</th>\n",
       "      <td>1</td>\n",
       "      <td>4979</td>\n",
       "      <td>21.9</td>\n",
       "    </tr>\n",
       "    <tr>\n",
       "      <th>1</th>\n",
       "      <td>2</td>\n",
       "      <td>60237</td>\n",
       "      <td>9.3</td>\n",
       "    </tr>\n",
       "    <tr>\n",
       "      <th>2</th>\n",
       "      <td>3</td>\n",
       "      <td>66620</td>\n",
       "      <td>9.2</td>\n",
       "    </tr>\n",
       "    <tr>\n",
       "      <th>3</th>\n",
       "      <td>4</td>\n",
       "      <td>64545</td>\n",
       "      <td>9.4</td>\n",
       "    </tr>\n",
       "    <tr>\n",
       "      <th>4</th>\n",
       "      <td>5</td>\n",
       "      <td>62136</td>\n",
       "      <td>9.4</td>\n",
       "    </tr>\n",
       "    <tr>\n",
       "      <th>5</th>\n",
       "      <td>6</td>\n",
       "      <td>53975</td>\n",
       "      <td>9.5</td>\n",
       "    </tr>\n",
       "    <tr>\n",
       "      <th>6</th>\n",
       "      <td>7</td>\n",
       "      <td>6225</td>\n",
       "      <td>18.8</td>\n",
       "    </tr>\n",
       "  </tbody>\n",
       "</table>\n",
       "</div>"
      ],
      "text/plain": [
       "   f0_    f1_  duration_mins\n",
       "0    1   4979           21.9\n",
       "1    2  60237            9.3\n",
       "2    3  66620            9.2\n",
       "3    4  64545            9.4\n",
       "4    5  62136            9.4\n",
       "5    6  53975            9.5\n",
       "6    7   6225           18.8"
      ]
     },
     "execution_count": 4,
     "metadata": {},
     "output_type": "execute_result"
    }
   ],
   "source": [
    "df_daily_am"
   ]
  },
  {
   "cell_type": "code",
   "execution_count": 5,
   "metadata": {},
   "outputs": [
    {
     "data": {
      "image/png": "[encoded data removed]",
      "text/plain": [
       "<Figure size 432x288 with 1 Axes>"
      ]
     },
     "metadata": {},
     "output_type": "display_data"
    }
   ],
   "source": [
    "ax = plt.gca()\n",
    "df_daily_am.plot(kind='bar', x='f0_', y='f1_', color='green', ax=ax)\n",
    "plt.xlabel('Day of Week')\n",
    "plt.ylabel('# of Trips')\n",
    "plt.title('Number of Morning Trips on Average per Day')\n",
    "ax.get_legend().remove()\n",
    "plt.show()"
   ]
  },
  {
   "cell_type": "code",
   "execution_count": 6,
   "metadata": {},
   "outputs": [
    {
     "data": {
      "text/html": [
       "<div>\n",
       "<style scoped>\n",
       "    .dataframe tbody tr th:only-of-type {\n",
       "        vertical-align: middle;\n",
       "    }\n",
       "\n",
       "    .dataframe tbody tr th {\n",
       "        vertical-align: top;\n",
       "    }\n",
       "\n",
       "    .dataframe thead th {\n",
       "        text-align: right;\n",
       "    }\n",
       "</style>\n",
       "<table border=\"1\" class=\"dataframe\">\n",
       "  <thead>\n",
       "    <tr style=\"text-align: right;\">\n",
       "      <th></th>\n",
       "      <th>f0_</th>\n",
       "      <th>f1_</th>\n",
       "      <th>duration_mins</th>\n",
       "    </tr>\n",
       "  </thead>\n",
       "  <tbody>\n",
       "    <tr>\n",
       "      <th>0</th>\n",
       "      <td>1</td>\n",
       "      <td>13078</td>\n",
       "      <td>27.9</td>\n",
       "    </tr>\n",
       "    <tr>\n",
       "      <th>1</th>\n",
       "      <td>2</td>\n",
       "      <td>63417</td>\n",
       "      <td>11.7</td>\n",
       "    </tr>\n",
       "    <tr>\n",
       "      <th>2</th>\n",
       "      <td>3</td>\n",
       "      <td>66932</td>\n",
       "      <td>11.7</td>\n",
       "    </tr>\n",
       "    <tr>\n",
       "      <th>3</th>\n",
       "      <td>4</td>\n",
       "      <td>64641</td>\n",
       "      <td>11.3</td>\n",
       "    </tr>\n",
       "    <tr>\n",
       "      <th>4</th>\n",
       "      <td>5</td>\n",
       "      <td>61590</td>\n",
       "      <td>11.9</td>\n",
       "    </tr>\n",
       "    <tr>\n",
       "      <th>5</th>\n",
       "      <td>6</td>\n",
       "      <td>53040</td>\n",
       "      <td>13.7</td>\n",
       "    </tr>\n",
       "    <tr>\n",
       "      <th>6</th>\n",
       "      <td>7</td>\n",
       "      <td>15012</td>\n",
       "      <td>29.4</td>\n",
       "    </tr>\n",
       "  </tbody>\n",
       "</table>\n",
       "</div>"
      ],
      "text/plain": [
       "   f0_    f1_  duration_mins\n",
       "0    1  13078           27.9\n",
       "1    2  63417           11.7\n",
       "2    3  66932           11.7\n",
       "3    4  64641           11.3\n",
       "4    5  61590           11.9\n",
       "5    6  53040           13.7\n",
       "6    7  15012           29.4"
      ]
     },
     "execution_count": 6,
     "metadata": {},
     "output_type": "execute_result"
    }
   ],
   "source": [
    "df_daily_pm"
   ]
  },
  {
   "cell_type": "code",
   "execution_count": 7,
   "metadata": {},
   "outputs": [
    {
     "data": {
      "image/png": "[encoded data removed]",
      "text/plain": [
       "<Figure size 432x288 with 1 Axes>"
      ]
     },
     "metadata": {},
     "output_type": "display_data"
    }
   ],
   "source": [
    "ax = plt.gca()\n",
    "df_daily_pm.plot(kind='bar', x='f0_', y='f1_', color='blue', ax=ax)\n",
    "plt.xlabel('Day of Week')\n",
    "plt.ylabel('# of Trips')\n",
    "plt.title('Number of Evening Trips on Average per Day')\n",
    "ax.get_legend().remove()\n",
    "plt.show()"
   ]
  },
  {
   "cell_type": "markdown",
   "metadata": {},
   "source": [
    "<h3> Q3:  What are the most popular Morning and Evening Commuter Trips?</h3>\n",
    "\n",
    "**Answer 3:**  \n",
    "See below.  \n",
    "\n",
    "**Assumptions:**   \n",
    "<body> - AM commute:  starts 4am to 9am,  end at 10am </body>  \n",
    "<body> - PM commute:  starts 4pm to 9pm,  end at 10pm </body>  \n",
    "<body> - Weekdays (Monday - Friday) </body>  \n",
    "<body> - Account Type = Subscribers </body>  \n",
    "<body> - Duration > 2 minutes </body>"
   ]
  },
  {
   "cell_type": "code",
   "execution_count": 8,
   "metadata": {},
   "outputs": [
    {
     "name": "stdout",
     "output_type": "stream",
     "text": [
      "Waiting on bqjob_r15e8c652dcf93804_00000168bc6b0a70_1 ... (0s) Current status: DONE   "
     ]
    }
   ],
   "source": [
    "! bq query --use_legacy_sql=FALSE --format=csv 'SELECT start_station_name, end_station_name, count(start_date) FROM `bigquery-public-data.san_francisco.bikeshare_trips` WHERE EXTRACT(DAYOFWEEK from start_date) >= 2 and EXTRACT(DAYOFWEEK from start_date) <= 6 and EXTRACT(HOUR from start_date) >= 4 and EXTRACT(HOUR from start_date) <= 9 and EXTRACT(HOUR from end_date) <= 10 and subscriber_type = \"Subscriber\" and duration_sec > 120 GROUP BY start_station_name, end_station_name ORDER BY 3 DESC limit 5' > result3.csv\n",
    "! bq query --use_legacy_sql=FALSE --format=csv 'SELECT start_station_name, end_station_name, count(start_date) FROM `bigquery-public-data.san_francisco.bikeshare_trips` WHERE EXTRACT(DAYOFWEEK from start_date) >= 2 and EXTRACT(DAYOFWEEK from start_date) <= 6 and EXTRACT(HOUR from start_date) >= 16 and EXTRACT(HOUR from start_date) <= 21 and EXTRACT(HOUR from end_date) <= 22 and subscriber_type = \"Subscriber\" and duration_sec > 120 GROUP BY start_station_name, end_station_name ORDER BY 3 DESC limit 5' > result4.csv"
   ]
  },
  {
   "cell_type": "code",
   "execution_count": 9,
   "metadata": {},
   "outputs": [],
   "source": [
    "df_top_5am_trips=pd.read_csv('result3.csv')\n",
    "df_top_5pm_trips=pd.read_csv('result4.csv')"
   ]
  },
  {
   "cell_type": "markdown",
   "metadata": {},
   "source": [
    "### Answer 3a: Top 5 Morning Weekday Commutes"
   ]
  },
  {
   "cell_type": "code",
   "execution_count": 10,
   "metadata": {
    "scrolled": true
   },
   "outputs": [
    {
     "data": {
      "text/html": [
       "<div>\n",
       "<style scoped>\n",
       "    .dataframe tbody tr th:only-of-type {\n",
       "        vertical-align: middle;\n",
       "    }\n",
       "\n",
       "    .dataframe tbody tr th {\n",
       "        vertical-align: top;\n",
       "    }\n",
       "\n",
       "    .dataframe thead th {\n",
       "        text-align: right;\n",
       "    }\n",
       "</style>\n",
       "<table border=\"1\" class=\"dataframe\">\n",
       "  <thead>\n",
       "    <tr style=\"text-align: right;\">\n",
       "      <th></th>\n",
       "      <th>start_station_name</th>\n",
       "      <th>end_station_name</th>\n",
       "      <th>f0_</th>\n",
       "    </tr>\n",
       "  </thead>\n",
       "  <tbody>\n",
       "    <tr>\n",
       "      <th>0</th>\n",
       "      <td>Harry Bridges Plaza (Ferry Building)</td>\n",
       "      <td>2nd at Townsend</td>\n",
       "      <td>4750</td>\n",
       "    </tr>\n",
       "    <tr>\n",
       "      <th>1</th>\n",
       "      <td>San Francisco Caltrain (Townsend at 4th)</td>\n",
       "      <td>Temporary Transbay Terminal (Howard at Beale)</td>\n",
       "      <td>3809</td>\n",
       "    </tr>\n",
       "    <tr>\n",
       "      <th>2</th>\n",
       "      <td>Steuart at Market</td>\n",
       "      <td>2nd at Townsend</td>\n",
       "      <td>3774</td>\n",
       "    </tr>\n",
       "    <tr>\n",
       "      <th>3</th>\n",
       "      <td>San Francisco Caltrain (Townsend at 4th)</td>\n",
       "      <td>Embarcadero at Folsom</td>\n",
       "      <td>3593</td>\n",
       "    </tr>\n",
       "    <tr>\n",
       "      <th>4</th>\n",
       "      <td>San Francisco Caltrain 2 (330 Townsend)</td>\n",
       "      <td>Townsend at 7th</td>\n",
       "      <td>3544</td>\n",
       "    </tr>\n",
       "  </tbody>\n",
       "</table>\n",
       "</div>"
      ],
      "text/plain": [
       "                         start_station_name  \\\n",
       "0      Harry Bridges Plaza (Ferry Building)   \n",
       "1  San Francisco Caltrain (Townsend at 4th)   \n",
       "2                         Steuart at Market   \n",
       "3  San Francisco Caltrain (Townsend at 4th)   \n",
       "4   San Francisco Caltrain 2 (330 Townsend)   \n",
       "\n",
       "                                end_station_name   f0_  \n",
       "0                                2nd at Townsend  4750  \n",
       "1  Temporary Transbay Terminal (Howard at Beale)  3809  \n",
       "2                                2nd at Townsend  3774  \n",
       "3                          Embarcadero at Folsom  3593  \n",
       "4                                Townsend at 7th  3544  "
      ]
     },
     "execution_count": 10,
     "metadata": {},
     "output_type": "execute_result"
    }
   ],
   "source": [
    "df_top_5am_trips"
   ]
  },
  {
   "cell_type": "markdown",
   "metadata": {},
   "source": [
    "### Answer 3b: Top 5 Evening Weekday Commutes"
   ]
  },
  {
   "cell_type": "code",
   "execution_count": 11,
   "metadata": {},
   "outputs": [
    {
     "data": {
      "text/html": [
       "<div>\n",
       "<style scoped>\n",
       "    .dataframe tbody tr th:only-of-type {\n",
       "        vertical-align: middle;\n",
       "    }\n",
       "\n",
       "    .dataframe tbody tr th {\n",
       "        vertical-align: top;\n",
       "    }\n",
       "\n",
       "    .dataframe thead th {\n",
       "        text-align: right;\n",
       "    }\n",
       "</style>\n",
       "<table border=\"1\" class=\"dataframe\">\n",
       "  <thead>\n",
       "    <tr style=\"text-align: right;\">\n",
       "      <th></th>\n",
       "      <th>start_station_name</th>\n",
       "      <th>end_station_name</th>\n",
       "      <th>f0_</th>\n",
       "    </tr>\n",
       "  </thead>\n",
       "  <tbody>\n",
       "    <tr>\n",
       "      <th>0</th>\n",
       "      <td>2nd at Townsend</td>\n",
       "      <td>Harry Bridges Plaza (Ferry Building)</td>\n",
       "      <td>4267</td>\n",
       "    </tr>\n",
       "    <tr>\n",
       "      <th>1</th>\n",
       "      <td>Embarcadero at Folsom</td>\n",
       "      <td>San Francisco Caltrain (Townsend at 4th)</td>\n",
       "      <td>4174</td>\n",
       "    </tr>\n",
       "    <tr>\n",
       "      <th>2</th>\n",
       "      <td>Embarcadero at Sansome</td>\n",
       "      <td>Steuart at Market</td>\n",
       "      <td>4070</td>\n",
       "    </tr>\n",
       "    <tr>\n",
       "      <th>3</th>\n",
       "      <td>2nd at South Park</td>\n",
       "      <td>Market at Sansome</td>\n",
       "      <td>3689</td>\n",
       "    </tr>\n",
       "    <tr>\n",
       "      <th>4</th>\n",
       "      <td>Market at 10th</td>\n",
       "      <td>San Francisco Caltrain 2 (330 Townsend)</td>\n",
       "      <td>3623</td>\n",
       "    </tr>\n",
       "  </tbody>\n",
       "</table>\n",
       "</div>"
      ],
      "text/plain": [
       "       start_station_name                          end_station_name   f0_\n",
       "0         2nd at Townsend      Harry Bridges Plaza (Ferry Building)  4267\n",
       "1   Embarcadero at Folsom  San Francisco Caltrain (Townsend at 4th)  4174\n",
       "2  Embarcadero at Sansome                         Steuart at Market  4070\n",
       "3       2nd at South Park                         Market at Sansome  3689\n",
       "4          Market at 10th   San Francisco Caltrain 2 (330 Townsend)  3623"
      ]
     },
     "execution_count": 11,
     "metadata": {},
     "output_type": "execute_result"
    }
   ],
   "source": [
    "df_top_5pm_trips"
   ]
  },
  {
   "cell_type": "markdown",
   "metadata": {},
   "source": [
    "<h3> Q4:  Which type of customer takes longer trips?</h3>\n",
    "\n",
    "**Answer 4:**  \n",
    "Non subscribers take longer trips (61.9 mins vs. 9.7 mins).  Subscribers take 6.1 times more trips on average.  Non-subscribers have total trips of ~8.4 million minutes while subscribers have a total of ~8.2 million minutes."
   ]
  },
  {
   "cell_type": "code",
   "execution_count": 12,
   "metadata": {},
   "outputs": [
    {
     "name": "stdout",
     "output_type": "stream",
     "text": [
      "\r",
      "Waiting on bqjob_r75a517df1311fda4_00000168bc6b1618_1 ... (0s) Current status: DONE   "
     ]
    }
   ],
   "source": [
    "! bq query --use_legacy_sql=FALSE --format=csv 'SELECT subscriber_type, count(*) as count, trunc(AVG(duration_sec)/60, 1) AS avg_duration FROM `bigquery-public-data.san_francisco.bikeshare_trips` GROUP BY subscriber_type' > result5.csv"
   ]
  },
  {
   "cell_type": "code",
   "execution_count": 13,
   "metadata": {},
   "outputs": [
    {
     "data": {
      "text/html": [
       "<div>\n",
       "<style scoped>\n",
       "    .dataframe tbody tr th:only-of-type {\n",
       "        vertical-align: middle;\n",
       "    }\n",
       "\n",
       "    .dataframe tbody tr th {\n",
       "        vertical-align: top;\n",
       "    }\n",
       "\n",
       "    .dataframe thead th {\n",
       "        text-align: right;\n",
       "    }\n",
       "</style>\n",
       "<table border=\"1\" class=\"dataframe\">\n",
       "  <thead>\n",
       "    <tr style=\"text-align: right;\">\n",
       "      <th></th>\n",
       "      <th>subscriber_type</th>\n",
       "      <th>count</th>\n",
       "      <th>avg_duration</th>\n",
       "    </tr>\n",
       "  </thead>\n",
       "  <tbody>\n",
       "    <tr>\n",
       "      <th>0</th>\n",
       "      <td>Customer</td>\n",
       "      <td>136809</td>\n",
       "      <td>61.9</td>\n",
       "    </tr>\n",
       "    <tr>\n",
       "      <th>1</th>\n",
       "      <td>Subscriber</td>\n",
       "      <td>846839</td>\n",
       "      <td>9.7</td>\n",
       "    </tr>\n",
       "  </tbody>\n",
       "</table>\n",
       "</div>"
      ],
      "text/plain": [
       "  subscriber_type   count  avg_duration\n",
       "0        Customer  136809          61.9\n",
       "1      Subscriber  846839           9.7"
      ]
     },
     "execution_count": 13,
     "metadata": {},
     "output_type": "execute_result"
    }
   ],
   "source": [
    "df_subscription1=pd.read_csv('result5.csv')\n",
    "df_subscription1"
   ]
  },
  {
   "cell_type": "code",
   "execution_count": 14,
   "metadata": {},
   "outputs": [
    {
     "data": {
      "image/png": "[encoded data removed]",
      "text/plain": [
       "<Figure size 432x288 with 1 Axes>"
      ]
     },
     "metadata": {},
     "output_type": "display_data"
    }
   ],
   "source": [
    "labels = ['ad-hoc', 'Subscriber']\n",
    "sizes = df_subscription1['count']\n",
    "colors = ['lightblue', 'lightgreen']\n",
    "explode = (0.2, 0)  # explode 1st slice\n",
    "# Plot\n",
    "plt.pie(sizes, explode=explode, labels=labels, colors=colors,\n",
    "        autopct='%1.1f%%', shadow=True, startangle=140, )\n",
    "plt.title('Subscribed vs Unsubscribed Riders')\n",
    "plt.axis('equal')\n",
    "plt.show()"
   ]
  },
  {
   "cell_type": "code",
   "execution_count": 15,
   "metadata": {},
   "outputs": [
    {
     "name": "stdout",
     "output_type": "stream",
     "text": [
      "\r",
      "Waiting on bqjob_rb8fe83291bfcc5e_00000168bc6b2286_1 ... (0s) Current status: DONE   "
     ]
    }
   ],
   "source": [
    "! bq query --use_legacy_sql=FALSE --format=csv 'SELECT subscriber_type as subscriber, EXTRACT(DAYOFWEEK from start_date), count(start_date) as count, trunc(avg(duration_sec)/60,1) as duration_mins, trunc(count(start_date)*avg(duration_sec)/60, 0) as total_mins FROM `bigquery-public-data.san_francisco.bikeshare_trips` GROUP BY subscriber_type, EXTRACT(DAYOFWEEK from start_date) ORDER BY 1, 2' > result6.csv"
   ]
  },
  {
   "cell_type": "code",
   "execution_count": 16,
   "metadata": {},
   "outputs": [],
   "source": [
    "df_subscription2=pd.read_csv('result6.csv')"
   ]
  },
  {
   "cell_type": "code",
   "execution_count": 17,
   "metadata": {},
   "outputs": [
    {
     "data": {
      "text/html": [
       "<div>\n",
       "<style scoped>\n",
       "    .dataframe tbody tr th:only-of-type {\n",
       "        vertical-align: middle;\n",
       "    }\n",
       "\n",
       "    .dataframe tbody tr th {\n",
       "        vertical-align: top;\n",
       "    }\n",
       "\n",
       "    .dataframe thead th {\n",
       "        text-align: right;\n",
       "    }\n",
       "</style>\n",
       "<table border=\"1\" class=\"dataframe\">\n",
       "  <thead>\n",
       "    <tr style=\"text-align: right;\">\n",
       "      <th></th>\n",
       "      <th>subscriber</th>\n",
       "      <th>f0_</th>\n",
       "      <th>count</th>\n",
       "      <th>duration_mins</th>\n",
       "      <th>total_mins</th>\n",
       "    </tr>\n",
       "  </thead>\n",
       "  <tbody>\n",
       "    <tr>\n",
       "      <th>0</th>\n",
       "      <td>Customer</td>\n",
       "      <td>1</td>\n",
       "      <td>25908</td>\n",
       "      <td>68.5</td>\n",
       "      <td>1774790.0</td>\n",
       "    </tr>\n",
       "    <tr>\n",
       "      <th>1</th>\n",
       "      <td>Customer</td>\n",
       "      <td>2</td>\n",
       "      <td>15142</td>\n",
       "      <td>54.1</td>\n",
       "      <td>820562.0</td>\n",
       "    </tr>\n",
       "    <tr>\n",
       "      <th>2</th>\n",
       "      <td>Customer</td>\n",
       "      <td>3</td>\n",
       "      <td>14737</td>\n",
       "      <td>51.9</td>\n",
       "      <td>766287.0</td>\n",
       "    </tr>\n",
       "    <tr>\n",
       "      <th>3</th>\n",
       "      <td>Customer</td>\n",
       "      <td>4</td>\n",
       "      <td>15237</td>\n",
       "      <td>51.7</td>\n",
       "      <td>788099.0</td>\n",
       "    </tr>\n",
       "    <tr>\n",
       "      <th>4</th>\n",
       "      <td>Customer</td>\n",
       "      <td>5</td>\n",
       "      <td>16612</td>\n",
       "      <td>53.8</td>\n",
       "      <td>895160.0</td>\n",
       "    </tr>\n",
       "    <tr>\n",
       "      <th>5</th>\n",
       "      <td>Customer</td>\n",
       "      <td>6</td>\n",
       "      <td>19929</td>\n",
       "      <td>60.4</td>\n",
       "      <td>1205493.0</td>\n",
       "    </tr>\n",
       "    <tr>\n",
       "      <th>6</th>\n",
       "      <td>Customer</td>\n",
       "      <td>7</td>\n",
       "      <td>29244</td>\n",
       "      <td>76.2</td>\n",
       "      <td>2228994.0</td>\n",
       "    </tr>\n",
       "    <tr>\n",
       "      <th>7</th>\n",
       "      <td>Subscriber</td>\n",
       "      <td>1</td>\n",
       "      <td>25467</td>\n",
       "      <td>11.3</td>\n",
       "      <td>288337.0</td>\n",
       "    </tr>\n",
       "    <tr>\n",
       "      <th>8</th>\n",
       "      <td>Subscriber</td>\n",
       "      <td>2</td>\n",
       "      <td>154795</td>\n",
       "      <td>9.5</td>\n",
       "      <td>1478265.0</td>\n",
       "    </tr>\n",
       "    <tr>\n",
       "      <th>9</th>\n",
       "      <td>Subscriber</td>\n",
       "      <td>3</td>\n",
       "      <td>169668</td>\n",
       "      <td>9.4</td>\n",
       "      <td>1601178.0</td>\n",
       "    </tr>\n",
       "    <tr>\n",
       "      <th>10</th>\n",
       "      <td>Subscriber</td>\n",
       "      <td>4</td>\n",
       "      <td>165530</td>\n",
       "      <td>9.5</td>\n",
       "      <td>1580388.0</td>\n",
       "    </tr>\n",
       "    <tr>\n",
       "      <th>11</th>\n",
       "      <td>Subscriber</td>\n",
       "      <td>5</td>\n",
       "      <td>160296</td>\n",
       "      <td>9.4</td>\n",
       "      <td>1518778.0</td>\n",
       "    </tr>\n",
       "    <tr>\n",
       "      <th>12</th>\n",
       "      <td>Subscriber</td>\n",
       "      <td>6</td>\n",
       "      <td>140048</td>\n",
       "      <td>9.9</td>\n",
       "      <td>1394364.0</td>\n",
       "    </tr>\n",
       "    <tr>\n",
       "      <th>13</th>\n",
       "      <td>Subscriber</td>\n",
       "      <td>7</td>\n",
       "      <td>31035</td>\n",
       "      <td>11.7</td>\n",
       "      <td>363811.0</td>\n",
       "    </tr>\n",
       "  </tbody>\n",
       "</table>\n",
       "</div>"
      ],
      "text/plain": [
       "    subscriber  f0_   count  duration_mins  total_mins\n",
       "0     Customer    1   25908           68.5   1774790.0\n",
       "1     Customer    2   15142           54.1    820562.0\n",
       "2     Customer    3   14737           51.9    766287.0\n",
       "3     Customer    4   15237           51.7    788099.0\n",
       "4     Customer    5   16612           53.8    895160.0\n",
       "5     Customer    6   19929           60.4   1205493.0\n",
       "6     Customer    7   29244           76.2   2228994.0\n",
       "7   Subscriber    1   25467           11.3    288337.0\n",
       "8   Subscriber    2  154795            9.5   1478265.0\n",
       "9   Subscriber    3  169668            9.4   1601178.0\n",
       "10  Subscriber    4  165530            9.5   1580388.0\n",
       "11  Subscriber    5  160296            9.4   1518778.0\n",
       "12  Subscriber    6  140048            9.9   1394364.0\n",
       "13  Subscriber    7   31035           11.7    363811.0"
      ]
     },
     "execution_count": 17,
     "metadata": {},
     "output_type": "execute_result"
    }
   ],
   "source": [
    "df_subscription2"
   ]
  },
  {
   "cell_type": "code",
   "execution_count": 18,
   "metadata": {},
   "outputs": [],
   "source": [
    "df_cust = df_subscription2[(df_subscription2.subscriber == \"Customer\")]\n",
    "df_sub = df_subscription2[(df_subscription2.subscriber != \"Customer\")]"
   ]
  },
  {
   "cell_type": "code",
   "execution_count": 19,
   "metadata": {},
   "outputs": [
    {
     "data": {
      "image/png": "[encoded data removed]",
      "text/plain": [
       "<Figure size 432x288 with 1 Axes>"
      ]
     },
     "metadata": {},
     "output_type": "display_data"
    }
   ],
   "source": [
    "ax = plt.gca()\n",
    "df_cust.plot(kind='bar', x='f0_', y='total_mins', color='purple', ax=ax)\n",
    "plt.xlabel('Day of Week')\n",
    "plt.ylabel('Total minutes')\n",
    "plt.title('Total Usage for non-Subscribers by day')\n",
    "ax.get_legend().remove()\n",
    "plt.show()"
   ]
  },
  {
   "cell_type": "code",
   "execution_count": 20,
   "metadata": {},
   "outputs": [
    {
     "data": {
      "image/png": "[encoded data removed]",
      "text/plain": [
       "<Figure size 432x288 with 1 Axes>"
      ]
     },
     "metadata": {},
     "output_type": "display_data"
    }
   ],
   "source": [
    "ax = plt.gca()\n",
    "df_sub.plot(kind='bar', x='f0_', y='total_mins', color='blue', ax=ax)\n",
    "plt.xlabel('Day of Week')\n",
    "plt.ylabel('Total minutes')\n",
    "plt.title('Total Usage for Subscribers by day')\n",
    "ax.get_legend().remove()\n",
    "plt.show()"
   ]
  },
  {
   "cell_type": "markdown",
   "metadata": {},
   "source": [
    "<h3> Q5:  What are the top 10 empty stations</h3>\n",
    "\n",
    "**Answer 5:**  \n",
    "See below."
   ]
  },
  {
   "cell_type": "code",
   "execution_count": 21,
   "metadata": {},
   "outputs": [
    {
     "name": "stdout",
     "output_type": "stream",
     "text": [
      "\r",
      "Waiting on bqjob_r722647e555893f4e_00000168bc6b2f5e_1 ... (0s) Current status: DONE   "
     ]
    }
   ],
   "source": [
    "! bq query --use_legacy_sql=FALSE --format=csv 'SELECT name AS Station_name, count(*) AS Total_Empty_Readings FROM `bigquery-public-data.san_francisco.bikeshare_status` as status INNER JOIN `bigquery-public-data.san_francisco.bikeshare_stations` as stations ON status.station_id=stations.station_id WHERE status.bikes_available=0 GROUP BY name ORDER BY count(*) DESC LIMIT 10' > result7.csv"
   ]
  },
  {
   "cell_type": "code",
   "execution_count": 22,
   "metadata": {},
   "outputs": [],
   "source": [
    "df_empty_stations=pd.read_csv('result7.csv')"
   ]
  },
  {
   "cell_type": "code",
   "execution_count": 23,
   "metadata": {},
   "outputs": [
    {
     "data": {
      "text/html": [
       "<div>\n",
       "<style scoped>\n",
       "    .dataframe tbody tr th:only-of-type {\n",
       "        vertical-align: middle;\n",
       "    }\n",
       "\n",
       "    .dataframe tbody tr th {\n",
       "        vertical-align: top;\n",
       "    }\n",
       "\n",
       "    .dataframe thead th {\n",
       "        text-align: right;\n",
       "    }\n",
       "</style>\n",
       "<table border=\"1\" class=\"dataframe\">\n",
       "  <thead>\n",
       "    <tr style=\"text-align: right;\">\n",
       "      <th></th>\n",
       "      <th>Station_name</th>\n",
       "      <th>Total_Empty_Readings</th>\n",
       "    </tr>\n",
       "  </thead>\n",
       "  <tbody>\n",
       "    <tr>\n",
       "      <th>0</th>\n",
       "      <td>2nd at Folsom</td>\n",
       "      <td>44844</td>\n",
       "    </tr>\n",
       "    <tr>\n",
       "      <th>1</th>\n",
       "      <td>Commercial at Montgomery</td>\n",
       "      <td>44728</td>\n",
       "    </tr>\n",
       "    <tr>\n",
       "      <th>2</th>\n",
       "      <td>Embarcadero at Vallejo</td>\n",
       "      <td>35903</td>\n",
       "    </tr>\n",
       "    <tr>\n",
       "      <th>3</th>\n",
       "      <td>Embarcadero at Sansome</td>\n",
       "      <td>32980</td>\n",
       "    </tr>\n",
       "    <tr>\n",
       "      <th>4</th>\n",
       "      <td>Clay at Battery</td>\n",
       "      <td>32505</td>\n",
       "    </tr>\n",
       "    <tr>\n",
       "      <th>5</th>\n",
       "      <td>San Francisco Caltrain (Townsend at 4th)</td>\n",
       "      <td>32027</td>\n",
       "    </tr>\n",
       "    <tr>\n",
       "      <th>6</th>\n",
       "      <td>Grant Avenue at Columbus Avenue</td>\n",
       "      <td>31733</td>\n",
       "    </tr>\n",
       "    <tr>\n",
       "      <th>7</th>\n",
       "      <td>Market at 4th</td>\n",
       "      <td>30800</td>\n",
       "    </tr>\n",
       "    <tr>\n",
       "      <th>8</th>\n",
       "      <td>Howard at 2nd</td>\n",
       "      <td>27938</td>\n",
       "    </tr>\n",
       "    <tr>\n",
       "      <th>9</th>\n",
       "      <td>Broadway St at Battery St</td>\n",
       "      <td>25496</td>\n",
       "    </tr>\n",
       "  </tbody>\n",
       "</table>\n",
       "</div>"
      ],
      "text/plain": [
       "                               Station_name  Total_Empty_Readings\n",
       "0                             2nd at Folsom                 44844\n",
       "1                  Commercial at Montgomery                 44728\n",
       "2                    Embarcadero at Vallejo                 35903\n",
       "3                    Embarcadero at Sansome                 32980\n",
       "4                           Clay at Battery                 32505\n",
       "5  San Francisco Caltrain (Townsend at 4th)                 32027\n",
       "6           Grant Avenue at Columbus Avenue                 31733\n",
       "7                             Market at 4th                 30800\n",
       "8                             Howard at 2nd                 27938\n",
       "9                 Broadway St at Battery St                 25496"
      ]
     },
     "execution_count": 23,
     "metadata": {},
     "output_type": "execute_result"
    }
   ],
   "source": [
    "df_empty_stations"
   ]
  },
  {
   "cell_type": "markdown",
   "metadata": {},
   "source": [
    "<h3> Q6:  How many morning commutes are <= 30 minutes?</h3>\n",
    "\n",
    "**Answer 6:**  \n",
    "On average ~60,000 trips per weekday.  See below."
   ]
  },
  {
   "cell_type": "code",
   "execution_count": 24,
   "metadata": {},
   "outputs": [
    {
     "name": "stdout",
     "output_type": "stream",
     "text": [
      "\r",
      "Waiting on bqjob_r246dea297e6de8d5_00000168bc6b3b69_1 ... (0s) Current status: DONE   "
     ]
    }
   ],
   "source": [
    "! bq query --use_legacy_sql=FALSE --format=csv 'SELECT EXTRACT(DAYOFWEEK from start_date), count(*) FROM `bigquery-public-data.san_francisco.bikeshare_trips` WHERE EXTRACT(DAYOFWEEK from start_date) >= 2 and EXTRACT(DAYOFWEEK from start_date) <= 6 and EXTRACT(HOUR from start_date) >= 4 and EXTRACT(HOUR from start_date) <= 9 and EXTRACT(HOUR from end_date) <= 10 and duration_sec/60 <= 30 GROUP BY EXTRACT(DAYOFWEEK from start_date) ORDER BY 1' > result8.csv"
   ]
  },
  {
   "cell_type": "code",
   "execution_count": 25,
   "metadata": {},
   "outputs": [],
   "source": [
    "commuters_30=pd.read_csv('result8.csv')"
   ]
  },
  {
   "cell_type": "code",
   "execution_count": 26,
   "metadata": {},
   "outputs": [
    {
     "data": {
      "text/html": [
       "<div>\n",
       "<style scoped>\n",
       "    .dataframe tbody tr th:only-of-type {\n",
       "        vertical-align: middle;\n",
       "    }\n",
       "\n",
       "    .dataframe tbody tr th {\n",
       "        vertical-align: top;\n",
       "    }\n",
       "\n",
       "    .dataframe thead th {\n",
       "        text-align: right;\n",
       "    }\n",
       "</style>\n",
       "<table border=\"1\" class=\"dataframe\">\n",
       "  <thead>\n",
       "    <tr style=\"text-align: right;\">\n",
       "      <th></th>\n",
       "      <th>f0_</th>\n",
       "      <th>f1_</th>\n",
       "    </tr>\n",
       "  </thead>\n",
       "  <tbody>\n",
       "    <tr>\n",
       "      <th>0</th>\n",
       "      <td>2</td>\n",
       "      <td>60237</td>\n",
       "    </tr>\n",
       "    <tr>\n",
       "      <th>1</th>\n",
       "      <td>3</td>\n",
       "      <td>66707</td>\n",
       "    </tr>\n",
       "    <tr>\n",
       "      <th>2</th>\n",
       "      <td>4</td>\n",
       "      <td>64576</td>\n",
       "    </tr>\n",
       "    <tr>\n",
       "      <th>3</th>\n",
       "      <td>5</td>\n",
       "      <td>62108</td>\n",
       "    </tr>\n",
       "    <tr>\n",
       "      <th>4</th>\n",
       "      <td>6</td>\n",
       "      <td>53958</td>\n",
       "    </tr>\n",
       "  </tbody>\n",
       "</table>\n",
       "</div>"
      ],
      "text/plain": [
       "   f0_    f1_\n",
       "0    2  60237\n",
       "1    3  66707\n",
       "2    4  64576\n",
       "3    5  62108\n",
       "4    6  53958"
      ]
     },
     "execution_count": 26,
     "metadata": {},
     "output_type": "execute_result"
    }
   ],
   "source": [
    "commuters_30"
   ]
  },
  {
   "cell_type": "markdown",
   "metadata": {},
   "source": [
    "<h3> Q7:  How many morning commutes are > 30 minutes?</h3>\n",
    "\n",
    "**Answer 7:**  \n",
    "On average 440 trips per weekday.  See below."
   ]
  },
  {
   "cell_type": "code",
   "execution_count": 27,
   "metadata": {},
   "outputs": [
    {
     "name": "stdout",
     "output_type": "stream",
     "text": [
      "\r",
      "Waiting on bqjob_r178761ca01423410_00000168bc6b475f_1 ... (0s) Current status: DONE   "
     ]
    }
   ],
   "source": [
    "! bq query --use_legacy_sql=FALSE --format=csv 'SELECT EXTRACT(DAYOFWEEK from start_date), count(*) FROM `bigquery-public-data.san_francisco.bikeshare_trips` WHERE EXTRACT(DAYOFWEEK from start_date) >= 2 and EXTRACT(DAYOFWEEK from start_date) <= 6 and EXTRACT(HOUR from start_date) >= 4 and EXTRACT(HOUR from start_date) <= 9 and EXTRACT(HOUR from end_date) <= 10 and duration_sec/60 > 30 GROUP BY EXTRACT(DAYOFWEEK from start_date) ORDER BY 1' > result9.csv"
   ]
  },
  {
   "cell_type": "code",
   "execution_count": 28,
   "metadata": {},
   "outputs": [],
   "source": [
    "commuters_greater_30=pd.read_csv('result9.csv')"
   ]
  },
  {
   "cell_type": "code",
   "execution_count": 29,
   "metadata": {},
   "outputs": [
    {
     "data": {
      "text/html": [
       "<div>\n",
       "<style scoped>\n",
       "    .dataframe tbody tr th:only-of-type {\n",
       "        vertical-align: middle;\n",
       "    }\n",
       "\n",
       "    .dataframe tbody tr th {\n",
       "        vertical-align: top;\n",
       "    }\n",
       "\n",
       "    .dataframe thead th {\n",
       "        text-align: right;\n",
       "    }\n",
       "</style>\n",
       "<table border=\"1\" class=\"dataframe\">\n",
       "  <thead>\n",
       "    <tr style=\"text-align: right;\">\n",
       "      <th></th>\n",
       "      <th>f0_</th>\n",
       "      <th>f1_</th>\n",
       "    </tr>\n",
       "  </thead>\n",
       "  <tbody>\n",
       "    <tr>\n",
       "      <th>0</th>\n",
       "      <td>2</td>\n",
       "      <td>450</td>\n",
       "    </tr>\n",
       "    <tr>\n",
       "      <th>1</th>\n",
       "      <td>3</td>\n",
       "      <td>395</td>\n",
       "    </tr>\n",
       "    <tr>\n",
       "      <th>2</th>\n",
       "      <td>4</td>\n",
       "      <td>416</td>\n",
       "    </tr>\n",
       "    <tr>\n",
       "      <th>3</th>\n",
       "      <td>5</td>\n",
       "      <td>479</td>\n",
       "    </tr>\n",
       "    <tr>\n",
       "      <th>4</th>\n",
       "      <td>6</td>\n",
       "      <td>446</td>\n",
       "    </tr>\n",
       "  </tbody>\n",
       "</table>\n",
       "</div>"
      ],
      "text/plain": [
       "   f0_  f1_\n",
       "0    2  450\n",
       "1    3  395\n",
       "2    4  416\n",
       "3    5  479\n",
       "4    6  446"
      ]
     },
     "execution_count": 29,
     "metadata": {},
     "output_type": "execute_result"
    }
   ],
   "source": [
    "commuters_greater_30"
   ]
  },
  {
   "cell_type": "code",
   "execution_count": null,
   "metadata": {},
   "outputs": [],
   "source": []
  }
 ],
 "metadata": {
  "kernelspec": {
   "display_name": "Python 3",
   "language": "python",
   "name": "python3"
  },
  "language_info": {
   "codemirror_mode": {
    "name": "ipython",
    "version": 3
   },
   "file_extension": ".py",
   "mimetype": "text/x-python",
   "name": "python",
   "nbconvert_exporter": "python",
   "pygments_lexer": "ipython3",
   "version": "3.6.5"
  }
 },
 "nbformat": 4,
 "nbformat_minor": 2
}
